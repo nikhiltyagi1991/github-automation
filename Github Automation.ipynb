{
 "cells": [
  {
   "cell_type": "code",
   "execution_count": 48,
   "metadata": {
    "collapsed": true
   },
   "outputs": [
    {
     "name": "stdout",
     "output_type": "stream",
     "text": [
      "Requirement already satisfied: PyGithub in c:\\users\\nikhi\\.conda\\envs\\automl-env\\lib\\site-packages (1.44)\n",
      "Requirement already satisfied: six in c:\\users\\nikhi\\.conda\\envs\\automl-env\\lib\\site-packages (from PyGithub) (1.12.0)\n",
      "Requirement already satisfied: pyjwt in c:\\users\\nikhi\\.conda\\envs\\automl-env\\lib\\site-packages (from PyGithub) (1.7.1)\n",
      "Requirement already satisfied: deprecated in c:\\users\\nikhi\\.conda\\envs\\automl-env\\lib\\site-packages (from PyGithub) (1.2.6)\n",
      "Requirement already satisfied: requests>=2.14.0 in c:\\users\\nikhi\\.conda\\envs\\automl-env\\lib\\site-packages (from PyGithub) (2.22.0)\n",
      "Requirement already satisfied: wrapt<2,>=1.10 in c:\\users\\nikhi\\.conda\\envs\\automl-env\\lib\\site-packages (from deprecated->PyGithub) (1.11.2)\n",
      "Requirement already satisfied: urllib3!=1.25.0,!=1.25.1,<1.26,>=1.21.1 in c:\\users\\nikhi\\.conda\\envs\\automl-env\\lib\\site-packages (from requests>=2.14.0->PyGithub) (1.25.6)\n",
      "Requirement already satisfied: idna<2.9,>=2.5 in c:\\users\\nikhi\\.conda\\envs\\automl-env\\lib\\site-packages (from requests>=2.14.0->PyGithub) (2.8)\n",
      "Requirement already satisfied: chardet<3.1.0,>=3.0.2 in c:\\users\\nikhi\\.conda\\envs\\automl-env\\lib\\site-packages (from requests>=2.14.0->PyGithub) (3.0.4)\n",
      "Requirement already satisfied: certifi>=2017.4.17 in c:\\users\\nikhi\\.conda\\envs\\automl-env\\lib\\site-packages (from requests>=2.14.0->PyGithub) (2019.9.11)\n"
     ]
    }
   ],
   "source": [
    "# Installing PyGithub library\n",
    "!pip install PyGithub "
   ]
  },
  {
   "cell_type": "markdown",
   "metadata": {},
   "source": [
    "## Generate a personal access token\n",
    "\n",
    "Login to your github account and follow the steps:\n",
    "- Click on top right corner menu to reveal settings option\n",
    "- In settings click on \"Developer Settings\" in left panel.\n",
    "- Select \"Personal access tokens\" in the new left panel.\n",
    "- Click \"Generate a personal access token\".\n",
    "- Write note for yourself and select the scopes (for this tutorial, just select all)\n",
    "- Click Generate token.\n",
    "- Keep this token, it will not be shown again so copy it in the script below.\n",
    "\n",
    "<div style=\"color:red\">\n",
    "    <b>Note:</b> Keep this token private as it can be used to modify anything in your github.\n",
    "</div>\n",
    "\n",
    "1.\n",
    "![Steps in action](github_tutorial1.png)\n",
    "\n",
    "2.\n",
    "![Steps in action](github_tutorial2.png)\n",
    "\n",
    "3.\n",
    "![Steps in action](github_tutorial3.png)"
   ]
  },
  {
   "cell_type": "code",
   "execution_count": 49,
   "metadata": {},
   "outputs": [],
   "source": [
    "from github import Github\n",
    "\n",
    "# Create a github instance that allows you to manage your github\n",
    "g = Github('access_token')\n",
    "\n",
    "# For enterprise github:\n",
    "# g = Github(base_url='github_enterprise_url', login_or_token='access_token')"
   ]
  },
  {
   "cell_type": "markdown",
   "metadata": {},
   "source": [
    "## What can we do with github apis?\n",
    "\n",
    "Well a whole lot!! here is the reference to PyGithub documentation https://pygithub.readthedocs.io/en/latest/. For this article, I will like to show you how you can create a repo, write a file, create branches, assign permissions, delete repos and compare two users."
   ]
  },
  {
   "cell_type": "markdown",
   "metadata": {},
   "source": [
    "### Creating multiple repos\n",
    "\n",
    "In this tutorial, we will do the following\n",
    "- Create a `automation-test` repository\n",
    "- Commit a `Readme.md` file to its master branch.\n",
    "- Create a `development` branch from current `master` branch.\n",
    "- Set `development` as default\n",
    "- Set code review permissions requirement in both `development` and `master`.\n",
    "\n",
    "So let's begin."
   ]
  },
  {
   "cell_type": "code",
   "execution_count": 50,
   "metadata": {},
   "outputs": [
    {
     "name": "stdout",
     "output_type": "stream",
     "text": [
      "https://github.com/nikhiltyagi1991/automation-test2 created.\n",
      "https://github.com/nikhiltyagi1991/automation-test1 created.\n",
      "https://github.com/nikhiltyagi1991/automation-test created.\n"
     ]
    }
   ],
   "source": [
    "repos = [\n",
    "    'automation-test2',\n",
    "    'automation-test1',\n",
    "    'automation-test',\n",
    "]\n",
    "def create_repo(repo_name):\n",
    "    # get the user from your token\n",
    "    me = g.get_user()\n",
    "\n",
    "    # create a new repo\n",
    "    automation_repo = me.create_repo(repo_name)\n",
    "\n",
    "    # create a Readme.md file\n",
    "    readme_commit = automation_repo.create_file('Readme.md', 'Initial commit', f'# {repo_name}')\n",
    "\n",
    "    # create a new development branch from above commit\n",
    "    # this one is tricky as brances are git refrences in api\n",
    "    automation_repo.create_git_ref('refs/heads/development', readme_commit['commit'].sha)\n",
    "\n",
    "    # make development branch as default\n",
    "    automation_repo.edit(default_branch='development')\n",
    "\n",
    "    # add 2 code reviews requirement for development and master branches\n",
    "    branches = ['development', 'master']\n",
    "    for branch in branches:\n",
    "        branch = automation_repo.get_branch(branch)\n",
    "        branch.edit_protection(require_code_owner_reviews=True, required_approving_review_count=2)\n",
    "        \n",
    "    print(f'{automation_repo.html_url} created.')\n",
    "        \n",
    "for repo in repos:\n",
    "    create_repo(repo)"
   ]
  },
  {
   "cell_type": "markdown",
   "metadata": {},
   "source": [
    "## Delete multiple repos\n",
    "\n",
    "In this tutorial, we will delete multiple repos that this user owns."
   ]
  },
  {
   "cell_type": "code",
   "execution_count": 51,
   "metadata": {},
   "outputs": [
    {
     "name": "stdout",
     "output_type": "stream",
     "text": [
      "https://github.com/nikhiltyagi1991/automation-test2 deleted\n",
      "https://github.com/nikhiltyagi1991/automation-test1 deleted\n",
      "https://github.com/nikhiltyagi1991/automation-test deleted\n"
     ]
    }
   ],
   "source": [
    "me = g.get_user()\n",
    "repos = [\n",
    "    f'{me.login}/automation-test2',\n",
    "    f'{me.login}/automation-test1',\n",
    "    f'{me.login}/automation-test',\n",
    "]\n",
    "\n",
    "def delete_repo(name):\n",
    "    repo = g.get_repo(name)\n",
    "    repo.delete()\n",
    "    print(f'{repo.html_url} deleted')\n",
    "\n",
    "for repo in repos:\n",
    "    delete_repo(repo)"
   ]
  },
  {
   "cell_type": "markdown",
   "metadata": {},
   "source": [
    "## Compare two users\n",
    "\n",
    "In this tutorial, we will check in how many repos of mine other user exists."
   ]
  },
  {
   "cell_type": "code",
   "execution_count": 59,
   "metadata": {},
   "outputs": [
    {
     "name": "stdout",
     "output_type": "stream",
     "text": [
      "User1 repos are: \n",
      "['mediasmith', 'Assignment5', 'assignment-1-dataScience', 'a3_ml', 'BookShare', 'capacitor', 'cordova-plugin-fingerprint-aio', 'dataxylo-ex', 'employer-backend', 'ExamPrepration', 'git-lunch', 'hackathon', 'insurance-portal', 'keyvaluedbtest', 'Maps-Driving', 'mbr-portal', 'ngSpinBox', 'OTPGrabber', 'python-mega-project-list', 'real-estate-portal', 'ShopApp', 'VoiceCommands', 'voting-contract', 'voting-website', 'WikiWordGame']\n",
      "\n",
      "Repos where both are collaborators:\n",
      "Assignment5\n",
      "real-estate-portal\n",
      "\n",
      "User2 repos are: \n",
      "['Assignment5_Cloud', 'Cloud_A5', 'DeepLearning_Tensorflow_Tutor', 'E-Pharma', 'E-Rail', 'Morse-Code', 'projectMC', 'real-estate-portal', 'SamSpring', 'Sentiment_Analysis-', 'svm_mnist_digit_classification']\n"
     ]
    }
   ],
   "source": [
    "user1 = g.get_user()\n",
    "# login id is required to get another user\n",
    "user2 = g.get_user('SamarthRaval')\n",
    "\n",
    "# Showing user1 all repos\n",
    "user1_repos = [repo.name for repo in user1.get_repos()]\n",
    "print(f'User1 repos are: \\n{user1_repos}')\n",
    "print()\n",
    "\n",
    "# Print user1's repositories where user2 is a collaborator\n",
    "print('Repos where both are collaborators:')\n",
    "for repo in user1.get_repos():\n",
    "    if user2 in repo.get_collaborators():\n",
    "        print(repo.name)\n",
    "print()\n",
    "\n",
    "# User2's repositories.\n",
    "user2_repos = [repo.name for repo in user2.get_repos()]\n",
    "print(f'User2 repos are: \\n{user2_repos}')"
   ]
  }
 ],
 "metadata": {
  "kernelspec": {
   "display_name": "Python 3",
   "language": "python",
   "name": "python3"
  },
  "language_info": {
   "codemirror_mode": {
    "name": "ipython",
    "version": 3
   },
   "file_extension": ".py",
   "mimetype": "text/x-python",
   "name": "python",
   "nbconvert_exporter": "python",
   "pygments_lexer": "ipython3",
   "version": "3.7.4"
  }
 },
 "nbformat": 4,
 "nbformat_minor": 2
}
